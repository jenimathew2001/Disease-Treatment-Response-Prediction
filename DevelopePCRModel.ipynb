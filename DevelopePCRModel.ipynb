{
 "cells": [
  {
   "cell_type": "code",
   "execution_count": 1,
   "metadata": {
    "colab": {
     "base_uri": "https://localhost:8080/"
    },
    "executionInfo": {
     "elapsed": 17250,
     "status": "ok",
     "timestamp": 1702590180780,
     "user": {
      "displayName": "Peerakarn Jitpukdee",
      "userId": "02920075897590080466"
     },
     "user_tz": 0
    },
    "id": "2JMXyefgGcBS",
    "outputId": "af28b862-1907-4c2e-b4df-c4178dcc7e94"
   },
   "outputs": [
    {
     "name": "stdout",
     "output_type": "stream",
     "text": [
      "Requirement already satisfied: scikit-optimize in /usr/local/lib/python3.10/dist-packages (0.9.0)\n",
      "Requirement already satisfied: joblib>=0.11 in /usr/local/lib/python3.10/dist-packages (from scikit-optimize) (1.3.2)\n",
      "Requirement already satisfied: pyaml>=16.9 in /usr/local/lib/python3.10/dist-packages (from scikit-optimize) (23.9.7)\n",
      "Requirement already satisfied: numpy>=1.13.3 in /usr/local/lib/python3.10/dist-packages (from scikit-optimize) (1.23.5)\n",
      "Requirement already satisfied: scipy>=0.19.1 in /usr/local/lib/python3.10/dist-packages (from scikit-optimize) (1.11.4)\n",
      "Requirement already satisfied: scikit-learn>=0.20.0 in /usr/local/lib/python3.10/dist-packages (from scikit-optimize) (1.2.2)\n",
      "Requirement already satisfied: PyYAML in /usr/local/lib/python3.10/dist-packages (from pyaml>=16.9->scikit-optimize) (6.0.1)\n",
      "Requirement already satisfied: threadpoolctl>=2.0.0 in /usr/local/lib/python3.10/dist-packages (from scikit-learn>=0.20.0->scikit-optimize) (3.2.0)\n"
     ]
    }
   ],
   "source": [
    "!pip install scikit-optimize"
   ]
  },
  {
   "cell_type": "markdown",
   "metadata": {},
   "source": [
    "### We developed in colab, please skip this line"
   ]
  },
  {
   "cell_type": "code",
   "execution_count": 25,
   "metadata": {
    "colab": {
     "base_uri": "https://localhost:8080/"
    },
    "executionInfo": {
     "elapsed": 2835,
     "status": "ok",
     "timestamp": 1702590983664,
     "user": {
      "displayName": "Peerakarn Jitpukdee",
      "userId": "02920075897590080466"
     },
     "user_tz": 0
    },
    "id": "aKCVr62hFzXA",
    "outputId": "cdb04441-b573-4f56-f483-f2079df1e1e4"
   },
   "outputs": [
    {
     "name": "stdout",
     "output_type": "stream",
     "text": [
      "Mounted at /content/drive/\n"
     ]
    }
   ],
   "source": [
    "#from google.colab import drive\n",
    "#drive.mount('/content/drive/', force_remount=True)"
   ]
  },
  {
   "cell_type": "code",
   "execution_count": 26,
   "metadata": {
    "executionInfo": {
     "elapsed": 10,
     "status": "ok",
     "timestamp": 1702590983664,
     "user": {
      "displayName": "Peerakarn Jitpukdee",
      "userId": "02920075897590080466"
     },
     "user_tz": 0
    },
    "id": "Ezg6kCKdGa0H"
   },
   "outputs": [],
   "source": [
    "import pandas as pd\n",
    "from sklearn import compose, feature_selection, preprocessing, svm, model_selection, pipeline, metrics\n",
    "import numpy as np\n",
    "import seaborn as sns\n",
    "from skopt import BayesSearchCV, space\n",
    "\n",
    "BASE_PATH = './'\n",
    "TARGET_FOLDER = 'classification_split'\n",
    "\n",
    "RANDOM_STATE=0"
   ]
  },
  {
   "cell_type": "code",
   "execution_count": 4,
   "metadata": {
    "executionInfo": {
     "elapsed": 3772,
     "status": "ok",
     "timestamp": 1702590190328,
     "user": {
      "displayName": "Peerakarn Jitpukdee",
      "userId": "02920075897590080466"
     },
     "user_tz": 0
    },
    "id": "gIFinVnsGdi5"
   },
   "outputs": [],
   "source": [
    "df = pd.read_excel(f'{BASE_PATH}/TrainDataset2023.xlsx')"
   ]
  },
  {
   "cell_type": "code",
   "execution_count": 5,
   "metadata": {
    "colab": {
     "base_uri": "https://localhost:8080/"
    },
    "executionInfo": {
     "elapsed": 5,
     "status": "ok",
     "timestamp": 1702590190328,
     "user": {
      "displayName": "Peerakarn Jitpukdee",
      "userId": "02920075897590080466"
     },
     "user_tz": 0
    },
    "id": "6opbODCLGmME",
    "outputId": "6772cb15-d5b4-42dd-94dc-50dd58792e0d"
   },
   "outputs": [
    {
     "data": {
      "text/plain": [
       "395"
      ]
     },
     "execution_count": 5,
     "metadata": {},
     "output_type": "execute_result"
    }
   ],
   "source": [
    "df = df[df['pCR (outcome)'] != 999].reset_index(drop=True)\n",
    "len(df)"
   ]
  },
  {
   "cell_type": "code",
   "execution_count": 6,
   "metadata": {
    "executionInfo": {
     "elapsed": 4,
     "status": "ok",
     "timestamp": 1702590190328,
     "user": {
      "displayName": "Peerakarn Jitpukdee",
      "userId": "02920075897590080466"
     },
     "user_tz": 0
    },
    "id": "zIwg5kVmGqwj"
   },
   "outputs": [],
   "source": [
    "df_train, df_test = model_selection.train_test_split(\n",
    "    df,\n",
    "    test_size=0.2,\n",
    "    random_state=RANDOM_STATE,\n",
    "    shuffle=True,\n",
    "    stratify=df['pCR (outcome)']\n",
    "    )"
   ]
  },
  {
   "cell_type": "code",
   "execution_count": 7,
   "metadata": {
    "executionInfo": {
     "elapsed": 4,
     "status": "ok",
     "timestamp": 1702590190328,
     "user": {
      "displayName": "Peerakarn Jitpukdee",
      "userId": "02920075897590080466"
     },
     "user_tz": 0
    },
    "id": "Ig_9ez0gGuTj"
   },
   "outputs": [],
   "source": [
    "df_train = df_train.drop(columns=['ID', 'RelapseFreeSurvival (outcome)']).reset_index(drop=True)\n",
    "df_test = df_test.drop(columns=['ID', 'RelapseFreeSurvival (outcome)']).reset_index(drop=True)"
   ]
  },
  {
   "cell_type": "code",
   "execution_count": 8,
   "metadata": {
    "executionInfo": {
     "elapsed": 4,
     "status": "ok",
     "timestamp": 1702590190329,
     "user": {
      "displayName": "Peerakarn Jitpukdee",
      "userId": "02920075897590080466"
     },
     "user_tz": 0
    },
    "id": "XexgLkeyG4rJ"
   },
   "outputs": [],
   "source": [
    "all_features = df_train.columns.tolist()[1:]\n",
    "target_col = 'pCR (outcome)'"
   ]
  },
  {
   "cell_type": "code",
   "execution_count": 9,
   "metadata": {
    "executionInfo": {
     "elapsed": 4,
     "status": "ok",
     "timestamp": 1702590190329,
     "user": {
      "displayName": "Peerakarn Jitpukdee",
      "userId": "02920075897590080466"
     },
     "user_tz": 0
    },
    "id": "LPC7PIwNG8b_"
   },
   "outputs": [],
   "source": [
    "categorical_cols = ['ER',\n",
    "\"PgR\",\n",
    "\"HER2\",\n",
    "'TrippleNegative',\n",
    "'ChemoGrade',\n",
    "'Proliferation',\n",
    "'HistologyType',\n",
    "'LNStatus',\n",
    "'TumourStage']\n",
    "\n",
    "numerical_cols = [col for col in all_features if col not in categorical_cols]\n",
    "\n",
    "z_numerical_cols = []"
   ]
  },
  {
   "cell_type": "code",
   "execution_count": 10,
   "metadata": {
    "executionInfo": {
     "elapsed": 332,
     "status": "ok",
     "timestamp": 1702590190657,
     "user": {
      "displayName": "Peerakarn Jitpukdee",
      "userId": "02920075897590080466"
     },
     "user_tz": 0
    },
    "id": "QpbKb586G9lz"
   },
   "outputs": [],
   "source": [
    "df_train['Age_group'] = 0\n",
    "df_test['Age_group'] = 0\n",
    "\n",
    "fillna_mappers = {}\n",
    "\n",
    "for i in range(10):\n",
    "  df_train.loc[df_train['Age'] > 10*i, 'Age_group' ] = i\n",
    "  df_test.loc[df_test['Age'] > 10*i, 'Age_group' ] = i\n",
    "\n",
    "for cat_col in categorical_cols:\n",
    "  df_train.loc[df_train[cat_col] == 999]\n",
    "  fillna_mapper = dict(df_train.groupby(['Age_group'])[cat_col].agg(lambda x: pd.Series.mode(x).iat[0]))\n",
    "  df_train.loc[df_train[cat_col] == 999, cat_col] = df_train.loc[df_train[cat_col]==999][\"Age_group\"].map(fillna_mapper)\n",
    "  df_test.loc[df_test[cat_col] == 999, cat_col] = df_test.loc[df_test[cat_col]==999][\"Age_group\"].map(fillna_mapper)\n",
    "  fillna_mappers[cat_col] = fillna_mapper"
   ]
  },
  {
   "cell_type": "code",
   "execution_count": 11,
   "metadata": {
    "executionInfo": {
     "elapsed": 2056,
     "status": "ok",
     "timestamp": 1702590192712,
     "user": {
      "displayName": "Peerakarn Jitpukdee",
      "userId": "02920075897590080466"
     },
     "user_tz": 0
    },
    "id": "RFCDKjGZHCma"
   },
   "outputs": [],
   "source": [
    "mean_dict = {}\n",
    "std_dict = {}\n",
    "\n",
    "for numerical_col in numerical_cols:\n",
    "  if numerical_col != \"Age\":\n",
    "    mean_dict_ = dict(df_train.groupby(['Age_group'])[numerical_col].mean())\n",
    "    std_dict_ = dict(df_train.groupby(['Age_group'])[numerical_col].std())\n",
    "    mean_dict[numerical_col] = mean_dict_\n",
    "    std_dict[numerical_col] = std_dict_\n",
    "\n",
    "    df_ = df_train[[numerical_col, 'Age_group']].copy()\n",
    "    df_['mean'] = df_['Age_group'].map(mean_dict[numerical_col])\n",
    "    df_['std'] = df_['Age_group'].map(std_dict[numerical_col])\n",
    "    df_train[f\"z_{numerical_col}\"] = (df_train[numerical_col] - df_['mean'])/(df_['std'])\n",
    "\n",
    "    df_ = df_test[[numerical_col, 'Age_group']].copy()\n",
    "    df_['mean'] = df_['Age_group'].map(mean_dict[numerical_col])\n",
    "    df_['std'] = df_['Age_group'].map(std_dict[numerical_col])\n",
    "    df_test[f\"z_{numerical_col}\"] = (df_test[numerical_col] - df_['mean'])/(df_['std'])\n",
    "\n",
    "    z_numerical_cols.append(f\"z_{numerical_col}\")"
   ]
  },
  {
   "cell_type": "code",
   "execution_count": 12,
   "metadata": {
    "executionInfo": {
     "elapsed": 3,
     "status": "ok",
     "timestamp": 1702590192712,
     "user": {
      "displayName": "Peerakarn Jitpukdee",
      "userId": "02920075897590080466"
     },
     "user_tz": 0
    },
    "id": "Hp4H6VYoHZWG"
   },
   "outputs": [],
   "source": [
    "all_features = numerical_cols + z_numerical_cols + categorical_cols"
   ]
  },
  {
   "cell_type": "code",
   "execution_count": 13,
   "metadata": {
    "colab": {
     "base_uri": "https://localhost:8080/",
     "height": 118
    },
    "executionInfo": {
     "elapsed": 142778,
     "status": "ok",
     "timestamp": 1702590335488,
     "user": {
      "displayName": "Peerakarn Jitpukdee",
      "userId": "02920075897590080466"
     },
     "user_tz": 0
    },
    "id": "i7CNqMZRHalO",
    "outputId": "71ff8b01-b26d-4e0b-d408-16702d94c0a5"
   },
   "outputs": [
    {
     "data": {
      "text/html": [
       "<style>#sk-container-id-1 {color: black;background-color: white;}#sk-container-id-1 pre{padding: 0;}#sk-container-id-1 div.sk-toggleable {background-color: white;}#sk-container-id-1 label.sk-toggleable__label {cursor: pointer;display: block;width: 100%;margin-bottom: 0;padding: 0.3em;box-sizing: border-box;text-align: center;}#sk-container-id-1 label.sk-toggleable__label-arrow:before {content: \"▸\";float: left;margin-right: 0.25em;color: #696969;}#sk-container-id-1 label.sk-toggleable__label-arrow:hover:before {color: black;}#sk-container-id-1 div.sk-estimator:hover label.sk-toggleable__label-arrow:before {color: black;}#sk-container-id-1 div.sk-toggleable__content {max-height: 0;max-width: 0;overflow: hidden;text-align: left;background-color: #f0f8ff;}#sk-container-id-1 div.sk-toggleable__content pre {margin: 0.2em;color: black;border-radius: 0.25em;background-color: #f0f8ff;}#sk-container-id-1 input.sk-toggleable__control:checked~div.sk-toggleable__content {max-height: 200px;max-width: 100%;overflow: auto;}#sk-container-id-1 input.sk-toggleable__control:checked~label.sk-toggleable__label-arrow:before {content: \"▾\";}#sk-container-id-1 div.sk-estimator input.sk-toggleable__control:checked~label.sk-toggleable__label {background-color: #d4ebff;}#sk-container-id-1 div.sk-label input.sk-toggleable__control:checked~label.sk-toggleable__label {background-color: #d4ebff;}#sk-container-id-1 input.sk-hidden--visually {border: 0;clip: rect(1px 1px 1px 1px);clip: rect(1px, 1px, 1px, 1px);height: 1px;margin: -1px;overflow: hidden;padding: 0;position: absolute;width: 1px;}#sk-container-id-1 div.sk-estimator {font-family: monospace;background-color: #f0f8ff;border: 1px dotted black;border-radius: 0.25em;box-sizing: border-box;margin-bottom: 0.5em;}#sk-container-id-1 div.sk-estimator:hover {background-color: #d4ebff;}#sk-container-id-1 div.sk-parallel-item::after {content: \"\";width: 100%;border-bottom: 1px solid gray;flex-grow: 1;}#sk-container-id-1 div.sk-label:hover label.sk-toggleable__label {background-color: #d4ebff;}#sk-container-id-1 div.sk-serial::before {content: \"\";position: absolute;border-left: 1px solid gray;box-sizing: border-box;top: 0;bottom: 0;left: 50%;z-index: 0;}#sk-container-id-1 div.sk-serial {display: flex;flex-direction: column;align-items: center;background-color: white;padding-right: 0.2em;padding-left: 0.2em;position: relative;}#sk-container-id-1 div.sk-item {position: relative;z-index: 1;}#sk-container-id-1 div.sk-parallel {display: flex;align-items: stretch;justify-content: center;background-color: white;position: relative;}#sk-container-id-1 div.sk-item::before, #sk-container-id-1 div.sk-parallel-item::before {content: \"\";position: absolute;border-left: 1px solid gray;box-sizing: border-box;top: 0;bottom: 0;left: 50%;z-index: -1;}#sk-container-id-1 div.sk-parallel-item {display: flex;flex-direction: column;z-index: 1;position: relative;background-color: white;}#sk-container-id-1 div.sk-parallel-item:first-child::after {align-self: flex-end;width: 50%;}#sk-container-id-1 div.sk-parallel-item:last-child::after {align-self: flex-start;width: 50%;}#sk-container-id-1 div.sk-parallel-item:only-child::after {width: 0;}#sk-container-id-1 div.sk-dashed-wrapped {border: 1px dashed gray;margin: 0 0.4em 0.5em 0.4em;box-sizing: border-box;padding-bottom: 0.4em;background-color: white;}#sk-container-id-1 div.sk-label label {font-family: monospace;font-weight: bold;display: inline-block;line-height: 1.2em;}#sk-container-id-1 div.sk-label-container {text-align: center;}#sk-container-id-1 div.sk-container {/* jupyter's `normalize.less` sets `[hidden] { display: none; }` but bootstrap.min.css set `[hidden] { display: none !important; }` so we also need the `!important` here to be able to override the default hidden behavior on the sphinx rendered scikit-learn.org. See: https://github.com/scikit-learn/scikit-learn/issues/21755 */display: inline-block !important;position: relative;}#sk-container-id-1 div.sk-text-repr-fallback {display: none;}</style><div id=\"sk-container-id-1\" class=\"sk-top-container\"><div class=\"sk-text-repr-fallback\"><pre>SequentialFeatureSelector(cv=StratifiedKFold(n_splits=5, random_state=0, shuffle=True),\n",
       "                          estimator=SVC(C=0.05, class_weight=&#x27;balanced&#x27;,\n",
       "                                        kernel=&#x27;linear&#x27;),\n",
       "                          n_features_to_select=17, scoring=&#x27;balanced_accuracy&#x27;)</pre><b>In a Jupyter environment, please rerun this cell to show the HTML representation or trust the notebook. <br />On GitHub, the HTML representation is unable to render, please try loading this page with nbviewer.org.</b></div><div class=\"sk-container\" hidden><div class=\"sk-item sk-dashed-wrapped\"><div class=\"sk-label-container\"><div class=\"sk-label sk-toggleable\"><input class=\"sk-toggleable__control sk-hidden--visually\" id=\"sk-estimator-id-1\" type=\"checkbox\" ><label for=\"sk-estimator-id-1\" class=\"sk-toggleable__label sk-toggleable__label-arrow\">SequentialFeatureSelector</label><div class=\"sk-toggleable__content\"><pre>SequentialFeatureSelector(cv=StratifiedKFold(n_splits=5, random_state=0, shuffle=True),\n",
       "                          estimator=SVC(C=0.05, class_weight=&#x27;balanced&#x27;,\n",
       "                                        kernel=&#x27;linear&#x27;),\n",
       "                          n_features_to_select=17, scoring=&#x27;balanced_accuracy&#x27;)</pre></div></div></div><div class=\"sk-parallel\"><div class=\"sk-parallel-item\"><div class=\"sk-item\"><div class=\"sk-label-container\"><div class=\"sk-label sk-toggleable\"><input class=\"sk-toggleable__control sk-hidden--visually\" id=\"sk-estimator-id-2\" type=\"checkbox\" ><label for=\"sk-estimator-id-2\" class=\"sk-toggleable__label sk-toggleable__label-arrow\">estimator: SVC</label><div class=\"sk-toggleable__content\"><pre>SVC(C=0.05, class_weight=&#x27;balanced&#x27;, kernel=&#x27;linear&#x27;)</pre></div></div></div><div class=\"sk-serial\"><div class=\"sk-item\"><div class=\"sk-estimator sk-toggleable\"><input class=\"sk-toggleable__control sk-hidden--visually\" id=\"sk-estimator-id-3\" type=\"checkbox\" ><label for=\"sk-estimator-id-3\" class=\"sk-toggleable__label sk-toggleable__label-arrow\">SVC</label><div class=\"sk-toggleable__content\"><pre>SVC(C=0.05, class_weight=&#x27;balanced&#x27;, kernel=&#x27;linear&#x27;)</pre></div></div></div></div></div></div></div></div></div></div>"
      ],
      "text/plain": [
       "SequentialFeatureSelector(cv=StratifiedKFold(n_splits=5, random_state=0, shuffle=True),\n",
       "                          estimator=SVC(C=0.05, class_weight='balanced',\n",
       "                                        kernel='linear'),\n",
       "                          n_features_to_select=17, scoring='balanced_accuracy')"
      ]
     },
     "execution_count": 13,
     "metadata": {},
     "output_type": "execute_result"
    }
   ],
   "source": [
    "power_transform = preprocessing.PowerTransformer()\n",
    "one_hot_encoder = preprocessing.OneHotEncoder(drop='first', handle_unknown='ignore')\n",
    "scaler = preprocessing.MinMaxScaler()\n",
    "\n",
    "X_train_num, X_train_cat, y_train = df_train[numerical_cols + z_numerical_cols], df_train[categorical_cols].astype('category'), df_train[target_col].values\n",
    "X_train_num = power_transform.fit_transform(X_train_num)\n",
    "X_train_num = scaler.fit_transform(X_train_num)\n",
    "X_train_cat = one_hot_encoder.fit_transform(X_train_cat)\n",
    "X_train_cat = X_train_cat.toarray()\n",
    "X_train = np.concatenate((X_train_num, X_train_cat), axis=1)\n",
    "\n",
    "kfold = model_selection.StratifiedKFold(5, random_state=0, shuffle=True)\n",
    "\n",
    "svc = svm.SVC(C=0.05, kernel=\"linear\", class_weight=\"balanced\")\n",
    "\n",
    "sfs = feature_selection.SequentialFeatureSelector(\n",
    "    svc,\n",
    "    n_features_to_select=17, #sqrt(316)\n",
    "    cv=kfold,\n",
    "    scoring = 'balanced_accuracy',\n",
    "    )\n",
    "sfs.fit(X_train, y_train)"
   ]
  },
  {
   "cell_type": "code",
   "execution_count": 14,
   "metadata": {
    "colab": {
     "base_uri": "https://localhost:8080/"
    },
    "executionInfo": {
     "elapsed": 7,
     "status": "ok",
     "timestamp": 1702590335488,
     "user": {
      "displayName": "Peerakarn Jitpukdee",
      "userId": "02920075897590080466"
     },
     "user_tz": 0
    },
    "id": "mpfRRkRbHcQK",
    "outputId": "845b5569-51c2-4cae-8a99-df999b4f129c"
   },
   "outputs": [
    {
     "data": {
      "text/plain": [
       "array([[0.66665535, 0.5545207 , 0.29072123, ..., 0.        , 0.        ,\n",
       "        1.        ],\n",
       "       [0.6653396 , 0.84710047, 0.40655826, ..., 1.        , 0.        ,\n",
       "        0.        ],\n",
       "       [0.58207892, 0.73697546, 0.36656011, ..., 1.        , 0.        ,\n",
       "        0.        ],\n",
       "       ...,\n",
       "       [0.60968046, 0.78991398, 0.4065414 , ..., 1.        , 0.        ,\n",
       "        0.        ],\n",
       "       [0.67092358, 0.62627895, 0.30037681, ..., 1.        , 0.        ,\n",
       "        0.        ],\n",
       "       [0.54998175, 0.50864443, 0.32916071, ..., 0.        , 1.        ,\n",
       "        0.        ]])"
      ]
     },
     "execution_count": 14,
     "metadata": {},
     "output_type": "execute_result"
    }
   ],
   "source": [
    "X_train_reduced = sfs.transform(X_train)\n",
    "X_train_reduced"
   ]
  },
  {
   "cell_type": "code",
   "execution_count": 15,
   "metadata": {
    "colab": {
     "base_uri": "https://localhost:8080/",
     "height": 1000
    },
    "executionInfo": {
     "elapsed": 362362,
     "status": "ok",
     "timestamp": 1702590697844,
     "user": {
      "displayName": "Peerakarn Jitpukdee",
      "userId": "02920075897590080466"
     },
     "user_tz": 0
    },
    "id": "D28ORNTxHdi1",
    "outputId": "f3400a78-b6b9-49f3-f617-c18ab01dc173"
   },
   "outputs": [
    {
     "name": "stdout",
     "output_type": "stream",
     "text": [
      "Fitting 5 folds for each of 1 candidates, totalling 5 fits\n",
      "Fitting 5 folds for each of 1 candidates, totalling 5 fits\n",
      "Fitting 5 folds for each of 1 candidates, totalling 5 fits\n",
      "Fitting 5 folds for each of 1 candidates, totalling 5 fits\n",
      "Fitting 5 folds for each of 1 candidates, totalling 5 fits\n",
      "Fitting 5 folds for each of 1 candidates, totalling 5 fits\n",
      "Fitting 5 folds for each of 1 candidates, totalling 5 fits\n",
      "Fitting 5 folds for each of 1 candidates, totalling 5 fits\n",
      "Fitting 5 folds for each of 1 candidates, totalling 5 fits\n",
      "Fitting 5 folds for each of 1 candidates, totalling 5 fits\n",
      "Fitting 5 folds for each of 1 candidates, totalling 5 fits\n",
      "Fitting 5 folds for each of 1 candidates, totalling 5 fits\n",
      "Fitting 5 folds for each of 1 candidates, totalling 5 fits\n",
      "Fitting 5 folds for each of 1 candidates, totalling 5 fits\n",
      "Fitting 5 folds for each of 1 candidates, totalling 5 fits\n",
      "Fitting 5 folds for each of 1 candidates, totalling 5 fits\n",
      "Fitting 5 folds for each of 1 candidates, totalling 5 fits\n",
      "Fitting 5 folds for each of 1 candidates, totalling 5 fits\n",
      "Fitting 5 folds for each of 1 candidates, totalling 5 fits\n",
      "Fitting 5 folds for each of 1 candidates, totalling 5 fits\n",
      "Fitting 5 folds for each of 1 candidates, totalling 5 fits\n",
      "Fitting 5 folds for each of 1 candidates, totalling 5 fits\n",
      "Fitting 5 folds for each of 1 candidates, totalling 5 fits\n",
      "Fitting 5 folds for each of 1 candidates, totalling 5 fits\n",
      "Fitting 5 folds for each of 1 candidates, totalling 5 fits\n",
      "Fitting 5 folds for each of 1 candidates, totalling 5 fits\n",
      "Fitting 5 folds for each of 1 candidates, totalling 5 fits\n",
      "Fitting 5 folds for each of 1 candidates, totalling 5 fits\n",
      "Fitting 5 folds for each of 1 candidates, totalling 5 fits\n",
      "Fitting 5 folds for each of 1 candidates, totalling 5 fits\n",
      "Fitting 5 folds for each of 1 candidates, totalling 5 fits\n",
      "Fitting 5 folds for each of 1 candidates, totalling 5 fits\n",
      "Fitting 5 folds for each of 1 candidates, totalling 5 fits\n",
      "Fitting 5 folds for each of 1 candidates, totalling 5 fits\n",
      "Fitting 5 folds for each of 1 candidates, totalling 5 fits\n",
      "Fitting 5 folds for each of 1 candidates, totalling 5 fits\n",
      "Fitting 5 folds for each of 1 candidates, totalling 5 fits\n",
      "Fitting 5 folds for each of 1 candidates, totalling 5 fits\n",
      "Fitting 5 folds for each of 1 candidates, totalling 5 fits\n",
      "Fitting 5 folds for each of 1 candidates, totalling 5 fits\n",
      "Fitting 5 folds for each of 1 candidates, totalling 5 fits\n",
      "Fitting 5 folds for each of 1 candidates, totalling 5 fits\n",
      "Fitting 5 folds for each of 1 candidates, totalling 5 fits\n",
      "Fitting 5 folds for each of 1 candidates, totalling 5 fits\n",
      "Fitting 5 folds for each of 1 candidates, totalling 5 fits\n",
      "Fitting 5 folds for each of 1 candidates, totalling 5 fits\n",
      "Fitting 5 folds for each of 1 candidates, totalling 5 fits\n",
      "Fitting 5 folds for each of 1 candidates, totalling 5 fits\n",
      "Fitting 5 folds for each of 1 candidates, totalling 5 fits\n",
      "Fitting 5 folds for each of 1 candidates, totalling 5 fits\n",
      "Fitting 5 folds for each of 1 candidates, totalling 5 fits\n",
      "Fitting 5 folds for each of 1 candidates, totalling 5 fits\n",
      "Fitting 5 folds for each of 1 candidates, totalling 5 fits\n",
      "Fitting 5 folds for each of 1 candidates, totalling 5 fits\n",
      "Fitting 5 folds for each of 1 candidates, totalling 5 fits\n",
      "Fitting 5 folds for each of 1 candidates, totalling 5 fits\n",
      "Fitting 5 folds for each of 1 candidates, totalling 5 fits\n",
      "Fitting 5 folds for each of 1 candidates, totalling 5 fits\n",
      "Fitting 5 folds for each of 1 candidates, totalling 5 fits\n",
      "Fitting 5 folds for each of 1 candidates, totalling 5 fits\n",
      "Fitting 5 folds for each of 1 candidates, totalling 5 fits\n",
      "Fitting 5 folds for each of 1 candidates, totalling 5 fits\n",
      "Fitting 5 folds for each of 1 candidates, totalling 5 fits\n",
      "Fitting 5 folds for each of 1 candidates, totalling 5 fits\n",
      "Fitting 5 folds for each of 1 candidates, totalling 5 fits\n",
      "Fitting 5 folds for each of 1 candidates, totalling 5 fits\n",
      "Fitting 5 folds for each of 1 candidates, totalling 5 fits\n",
      "Fitting 5 folds for each of 1 candidates, totalling 5 fits\n",
      "Fitting 5 folds for each of 1 candidates, totalling 5 fits\n",
      "Fitting 5 folds for each of 1 candidates, totalling 5 fits\n",
      "Fitting 5 folds for each of 1 candidates, totalling 5 fits\n",
      "Fitting 5 folds for each of 1 candidates, totalling 5 fits\n",
      "Fitting 5 folds for each of 1 candidates, totalling 5 fits\n",
      "Fitting 5 folds for each of 1 candidates, totalling 5 fits\n",
      "Fitting 5 folds for each of 1 candidates, totalling 5 fits\n",
      "Fitting 5 folds for each of 1 candidates, totalling 5 fits\n",
      "Fitting 5 folds for each of 1 candidates, totalling 5 fits\n",
      "Fitting 5 folds for each of 1 candidates, totalling 5 fits\n",
      "Fitting 5 folds for each of 1 candidates, totalling 5 fits\n",
      "Fitting 5 folds for each of 1 candidates, totalling 5 fits\n",
      "Fitting 5 folds for each of 1 candidates, totalling 5 fits\n",
      "Fitting 5 folds for each of 1 candidates, totalling 5 fits\n",
      "Fitting 5 folds for each of 1 candidates, totalling 5 fits\n",
      "Fitting 5 folds for each of 1 candidates, totalling 5 fits\n",
      "Fitting 5 folds for each of 1 candidates, totalling 5 fits\n",
      "Fitting 5 folds for each of 1 candidates, totalling 5 fits\n",
      "Fitting 5 folds for each of 1 candidates, totalling 5 fits\n",
      "Fitting 5 folds for each of 1 candidates, totalling 5 fits\n",
      "Fitting 5 folds for each of 1 candidates, totalling 5 fits\n",
      "Fitting 5 folds for each of 1 candidates, totalling 5 fits\n",
      "Fitting 5 folds for each of 1 candidates, totalling 5 fits\n",
      "Fitting 5 folds for each of 1 candidates, totalling 5 fits\n",
      "Fitting 5 folds for each of 1 candidates, totalling 5 fits\n",
      "Fitting 5 folds for each of 1 candidates, totalling 5 fits\n",
      "Fitting 5 folds for each of 1 candidates, totalling 5 fits\n",
      "Fitting 5 folds for each of 1 candidates, totalling 5 fits\n"
     ]
    },
    {
     "name": "stderr",
     "output_type": "stream",
     "text": [
      "/usr/local/lib/python3.10/dist-packages/skopt/optimizer/optimizer.py:449: UserWarning: The objective has been evaluated at this point before.\n",
      "  warnings.warn(\"The objective has been evaluated \"\n"
     ]
    },
    {
     "name": "stdout",
     "output_type": "stream",
     "text": [
      "Fitting 5 folds for each of 1 candidates, totalling 5 fits\n",
      "Fitting 5 folds for each of 1 candidates, totalling 5 fits\n",
      "Fitting 5 folds for each of 1 candidates, totalling 5 fits\n",
      "Fitting 5 folds for each of 1 candidates, totalling 5 fits\n"
     ]
    },
    {
     "data": {
      "text/html": [
       "<style>#sk-container-id-2 {color: black;background-color: white;}#sk-container-id-2 pre{padding: 0;}#sk-container-id-2 div.sk-toggleable {background-color: white;}#sk-container-id-2 label.sk-toggleable__label {cursor: pointer;display: block;width: 100%;margin-bottom: 0;padding: 0.3em;box-sizing: border-box;text-align: center;}#sk-container-id-2 label.sk-toggleable__label-arrow:before {content: \"▸\";float: left;margin-right: 0.25em;color: #696969;}#sk-container-id-2 label.sk-toggleable__label-arrow:hover:before {color: black;}#sk-container-id-2 div.sk-estimator:hover label.sk-toggleable__label-arrow:before {color: black;}#sk-container-id-2 div.sk-toggleable__content {max-height: 0;max-width: 0;overflow: hidden;text-align: left;background-color: #f0f8ff;}#sk-container-id-2 div.sk-toggleable__content pre {margin: 0.2em;color: black;border-radius: 0.25em;background-color: #f0f8ff;}#sk-container-id-2 input.sk-toggleable__control:checked~div.sk-toggleable__content {max-height: 200px;max-width: 100%;overflow: auto;}#sk-container-id-2 input.sk-toggleable__control:checked~label.sk-toggleable__label-arrow:before {content: \"▾\";}#sk-container-id-2 div.sk-estimator input.sk-toggleable__control:checked~label.sk-toggleable__label {background-color: #d4ebff;}#sk-container-id-2 div.sk-label input.sk-toggleable__control:checked~label.sk-toggleable__label {background-color: #d4ebff;}#sk-container-id-2 input.sk-hidden--visually {border: 0;clip: rect(1px 1px 1px 1px);clip: rect(1px, 1px, 1px, 1px);height: 1px;margin: -1px;overflow: hidden;padding: 0;position: absolute;width: 1px;}#sk-container-id-2 div.sk-estimator {font-family: monospace;background-color: #f0f8ff;border: 1px dotted black;border-radius: 0.25em;box-sizing: border-box;margin-bottom: 0.5em;}#sk-container-id-2 div.sk-estimator:hover {background-color: #d4ebff;}#sk-container-id-2 div.sk-parallel-item::after {content: \"\";width: 100%;border-bottom: 1px solid gray;flex-grow: 1;}#sk-container-id-2 div.sk-label:hover label.sk-toggleable__label {background-color: #d4ebff;}#sk-container-id-2 div.sk-serial::before {content: \"\";position: absolute;border-left: 1px solid gray;box-sizing: border-box;top: 0;bottom: 0;left: 50%;z-index: 0;}#sk-container-id-2 div.sk-serial {display: flex;flex-direction: column;align-items: center;background-color: white;padding-right: 0.2em;padding-left: 0.2em;position: relative;}#sk-container-id-2 div.sk-item {position: relative;z-index: 1;}#sk-container-id-2 div.sk-parallel {display: flex;align-items: stretch;justify-content: center;background-color: white;position: relative;}#sk-container-id-2 div.sk-item::before, #sk-container-id-2 div.sk-parallel-item::before {content: \"\";position: absolute;border-left: 1px solid gray;box-sizing: border-box;top: 0;bottom: 0;left: 50%;z-index: -1;}#sk-container-id-2 div.sk-parallel-item {display: flex;flex-direction: column;z-index: 1;position: relative;background-color: white;}#sk-container-id-2 div.sk-parallel-item:first-child::after {align-self: flex-end;width: 50%;}#sk-container-id-2 div.sk-parallel-item:last-child::after {align-self: flex-start;width: 50%;}#sk-container-id-2 div.sk-parallel-item:only-child::after {width: 0;}#sk-container-id-2 div.sk-dashed-wrapped {border: 1px dashed gray;margin: 0 0.4em 0.5em 0.4em;box-sizing: border-box;padding-bottom: 0.4em;background-color: white;}#sk-container-id-2 div.sk-label label {font-family: monospace;font-weight: bold;display: inline-block;line-height: 1.2em;}#sk-container-id-2 div.sk-label-container {text-align: center;}#sk-container-id-2 div.sk-container {/* jupyter's `normalize.less` sets `[hidden] { display: none; }` but bootstrap.min.css set `[hidden] { display: none !important; }` so we also need the `!important` here to be able to override the default hidden behavior on the sphinx rendered scikit-learn.org. See: https://github.com/scikit-learn/scikit-learn/issues/21755 */display: inline-block !important;position: relative;}#sk-container-id-2 div.sk-text-repr-fallback {display: none;}</style><div id=\"sk-container-id-2\" class=\"sk-top-container\"><div class=\"sk-text-repr-fallback\"><pre>BayesSearchCV(cv=StratifiedKFold(n_splits=5, random_state=0, shuffle=True),\n",
       "              estimator=SVC(class_weight=&#x27;balanced&#x27;), n_iter=100,\n",
       "              random_state=0, scoring=&#x27;balanced_accuracy&#x27;,\n",
       "              search_spaces={&#x27;C&#x27;: Real(low=0.01, high=1, prior=&#x27;uniform&#x27;, transform=&#x27;normalize&#x27;),\n",
       "                             &#x27;degree&#x27;: Integer(low=1, high=10, prior=&#x27;uniform&#x27;, transform=&#x27;normalize&#x27;),\n",
       "                             &#x27;kernel&#x27;: Categorical(categories=(&#x27;linear&#x27;, &#x27;poly&#x27;, &#x27;rbf&#x27;, &#x27;sigmoid&#x27;), prior=None)},\n",
       "              verbose=1)</pre><b>In a Jupyter environment, please rerun this cell to show the HTML representation or trust the notebook. <br />On GitHub, the HTML representation is unable to render, please try loading this page with nbviewer.org.</b></div><div class=\"sk-container\" hidden><div class=\"sk-item sk-dashed-wrapped\"><div class=\"sk-label-container\"><div class=\"sk-label sk-toggleable\"><input class=\"sk-toggleable__control sk-hidden--visually\" id=\"sk-estimator-id-4\" type=\"checkbox\" ><label for=\"sk-estimator-id-4\" class=\"sk-toggleable__label sk-toggleable__label-arrow\">BayesSearchCV</label><div class=\"sk-toggleable__content\"><pre>BayesSearchCV(cv=StratifiedKFold(n_splits=5, random_state=0, shuffle=True),\n",
       "              estimator=SVC(class_weight=&#x27;balanced&#x27;), n_iter=100,\n",
       "              random_state=0, scoring=&#x27;balanced_accuracy&#x27;,\n",
       "              search_spaces={&#x27;C&#x27;: Real(low=0.01, high=1, prior=&#x27;uniform&#x27;, transform=&#x27;normalize&#x27;),\n",
       "                             &#x27;degree&#x27;: Integer(low=1, high=10, prior=&#x27;uniform&#x27;, transform=&#x27;normalize&#x27;),\n",
       "                             &#x27;kernel&#x27;: Categorical(categories=(&#x27;linear&#x27;, &#x27;poly&#x27;, &#x27;rbf&#x27;, &#x27;sigmoid&#x27;), prior=None)},\n",
       "              verbose=1)</pre></div></div></div><div class=\"sk-parallel\"><div class=\"sk-parallel-item\"><div class=\"sk-item\"><div class=\"sk-label-container\"><div class=\"sk-label sk-toggleable\"><input class=\"sk-toggleable__control sk-hidden--visually\" id=\"sk-estimator-id-5\" type=\"checkbox\" ><label for=\"sk-estimator-id-5\" class=\"sk-toggleable__label sk-toggleable__label-arrow\">estimator: SVC</label><div class=\"sk-toggleable__content\"><pre>SVC(class_weight=&#x27;balanced&#x27;)</pre></div></div></div><div class=\"sk-serial\"><div class=\"sk-item\"><div class=\"sk-estimator sk-toggleable\"><input class=\"sk-toggleable__control sk-hidden--visually\" id=\"sk-estimator-id-6\" type=\"checkbox\" ><label for=\"sk-estimator-id-6\" class=\"sk-toggleable__label sk-toggleable__label-arrow\">SVC</label><div class=\"sk-toggleable__content\"><pre>SVC(class_weight=&#x27;balanced&#x27;)</pre></div></div></div></div></div></div></div></div></div></div>"
      ],
      "text/plain": [
       "BayesSearchCV(cv=StratifiedKFold(n_splits=5, random_state=0, shuffle=True),\n",
       "              estimator=SVC(class_weight='balanced'), n_iter=100,\n",
       "              random_state=0, scoring='balanced_accuracy',\n",
       "              search_spaces={'C': Real(low=0.01, high=1, prior='uniform', transform='normalize'),\n",
       "                             'degree': Integer(low=1, high=10, prior='uniform', transform='normalize'),\n",
       "                             'kernel': Categorical(categories=('linear', 'poly', 'rbf', 'sigmoid'), prior=None)},\n",
       "              verbose=1)"
      ]
     },
     "execution_count": 15,
     "metadata": {},
     "output_type": "execute_result"
    }
   ],
   "source": [
    "model = svm.SVC(class_weight=\"balanced\")\n",
    "\n",
    "search_space = {\n",
    "    \"kernel\": space.Categorical(['linear', 'poly', 'rbf', 'sigmoid']),\n",
    "    \"degree\": space.Integer(1, 10),\n",
    "    #\"C\": space.Categorical([0.001, 0.05, 0.1, 1, 10])\n",
    "    \"C\": space.Real(0.01,1),\n",
    "\n",
    "}\n",
    "\n",
    "opt = BayesSearchCV(\n",
    "    model,\n",
    "    search_space,\n",
    "    cv=kfold,\n",
    "    n_iter=100,\n",
    "    scoring = 'balanced_accuracy',\n",
    "    random_state=0,\n",
    "    verbose=1\n",
    "    )\n",
    "\n",
    "opt.fit(X_train_reduced, y_train)"
   ]
  },
  {
   "cell_type": "code",
   "execution_count": 16,
   "metadata": {
    "colab": {
     "base_uri": "https://localhost:8080/"
    },
    "executionInfo": {
     "elapsed": 14,
     "status": "ok",
     "timestamp": 1702590697845,
     "user": {
      "displayName": "Peerakarn Jitpukdee",
      "userId": "02920075897590080466"
     },
     "user_tz": 0
    },
    "id": "-eCRBFQaHlSL",
    "outputId": "e43d130c-de74-4a5b-a9d3-9fc0dac9c9ec"
   },
   "outputs": [
    {
     "data": {
      "text/plain": [
       "0.6737488226059654"
      ]
     },
     "execution_count": 16,
     "metadata": {},
     "output_type": "execute_result"
    }
   ],
   "source": [
    "opt.best_score_"
   ]
  },
  {
   "cell_type": "code",
   "execution_count": 17,
   "metadata": {
    "colab": {
     "base_uri": "https://localhost:8080/"
    },
    "executionInfo": {
     "elapsed": 12,
     "status": "ok",
     "timestamp": 1702590697845,
     "user": {
      "displayName": "Peerakarn Jitpukdee",
      "userId": "02920075897590080466"
     },
     "user_tz": 0
    },
    "id": "ALVjdC4aHolk",
    "outputId": "f46aede0-54e4-4271-b2e1-144760757607"
   },
   "outputs": [
    {
     "data": {
      "text/plain": [
       "OrderedDict([('C', 0.10113395193616369), ('degree', 9), ('kernel', 'rbf')])"
      ]
     },
     "execution_count": 17,
     "metadata": {},
     "output_type": "execute_result"
    }
   ],
   "source": [
    "opt.best_params_"
   ]
  },
  {
   "cell_type": "code",
   "execution_count": 18,
   "metadata": {
    "executionInfo": {
     "elapsed": 10,
     "status": "ok",
     "timestamp": 1702590697845,
     "user": {
      "displayName": "Peerakarn Jitpukdee",
      "userId": "02920075897590080466"
     },
     "user_tz": 0
    },
    "id": "hocpMKysHpWv"
   },
   "outputs": [],
   "source": [
    "model = opt.best_estimator_\n",
    "X_test_num, X_test_cat, y_test = df_test[numerical_cols + z_numerical_cols], df_test[categorical_cols].astype('category'), df_test[target_col].values\n",
    "X_test_num = power_transform.transform(X_test_num)\n",
    "X_test_num = scaler.transform(X_test_num)\n",
    "X_test_cat = one_hot_encoder.transform(X_test_cat)\n",
    "X_test_cat = X_test_cat.toarray()\n",
    "X_test = np.concatenate((X_test_num, X_test_cat), axis=1)\n",
    "X_test\n",
    "\n",
    "X_test_reduced = sfs.transform(X_test)\n",
    "X_test_reduced\n",
    "\n",
    "y_pred = model.predict(X_test_reduced)"
   ]
  },
  {
   "cell_type": "code",
   "execution_count": 19,
   "metadata": {
    "executionInfo": {
     "elapsed": 9,
     "status": "ok",
     "timestamp": 1702590697845,
     "user": {
      "displayName": "Peerakarn Jitpukdee",
      "userId": "02920075897590080466"
     },
     "user_tz": 0
    },
    "id": "iuRq4eZ8Hqcw"
   },
   "outputs": [],
   "source": [
    "test_conf = metrics.confusion_matrix(y_test, y_pred)"
   ]
  },
  {
   "cell_type": "code",
   "execution_count": 20,
   "metadata": {
    "colab": {
     "base_uri": "https://localhost:8080/",
     "height": 472
    },
    "executionInfo": {
     "elapsed": 449,
     "status": "ok",
     "timestamp": 1702590698285,
     "user": {
      "displayName": "Peerakarn Jitpukdee",
      "userId": "02920075897590080466"
     },
     "user_tz": 0
    },
    "id": "A8IH-ntaHr0I",
    "outputId": "8e45e43e-a481-4e94-c77c-3e6c435e5b4a"
   },
   "outputs": [
    {
     "data": {
      "image/png": "[encoded data removed]",
      "text/plain": [
       "<Figure size 640x480 with 2 Axes>"
      ]
     },
     "metadata": {},
     "output_type": "display_data"
    }
   ],
   "source": [
    "import matplotlib.pyplot as plt\n",
    "ax= plt.subplot()\n",
    "sns.heatmap(test_conf, annot=True, fmt='g', ax=ax);\n",
    "\n",
    "ax.set_xlabel('Predicted labels');ax.set_ylabel('True labels');\n",
    "ax.set_title('Test Confusion Matrix');\n",
    "ax.xaxis.set_ticklabels(['non Diabetes', 'Diabetes']);\n",
    "ax.yaxis.set_ticklabels(['non Diabetes', 'Diabetes']);"
   ]
  },
  {
   "cell_type": "code",
   "execution_count": 21,
   "metadata": {
    "colab": {
     "base_uri": "https://localhost:8080/"
    },
    "executionInfo": {
     "elapsed": 9,
     "status": "ok",
     "timestamp": 1702590698285,
     "user": {
      "displayName": "Peerakarn Jitpukdee",
      "userId": "02920075897590080466"
     },
     "user_tz": 0
    },
    "id": "jiLLDdcsHsro",
    "outputId": "a88dd0dd-5bc8-4ab5-8b1b-4bb70dc5e46e"
   },
   "outputs": [
    {
     "data": {
      "text/plain": [
       "0.6835863377609108"
      ]
     },
     "execution_count": 21,
     "metadata": {},
     "output_type": "execute_result"
    }
   ],
   "source": [
    "metrics.balanced_accuracy_score(y_test, y_pred)"
   ]
  },
  {
   "cell_type": "code",
   "execution_count": null,
   "metadata": {
    "id": "wyAQ-vx0Ht6b"
   },
   "outputs": [],
   "source": [
    "import pickle\n",
    "\n",
    "with open(f'{BASE_PATH}/fillna_mappers_classification.pkl', 'wb') as file:\n",
    "  pickle.dump(fillna_mappers, file)\n",
    "\n",
    "with open(f'{BASE_PATH}/numerical_cols_classification.pkl', 'wb') as file:\n",
    "  pickle.dump(numerical_cols, file)\n",
    "\n",
    "with open(f'{BASE_PATH}/categorical_cols_classification.pkl', 'wb') as file:\n",
    "  pickle.dump(categorical_cols, file)\n",
    "\n",
    "with open(f'{BASE_PATH}/z_numerical_cols_classification.pkl', 'wb') as file:\n",
    "  pickle.dump(z_numerical_cols, file)\n",
    "\n",
    "with open(f'{BASE_PATH}/power_transform_classification.pkl', 'wb') as file:\n",
    "  pickle.dump(power_transform, file)\n",
    "\n",
    "with open(f'{BASE_PATH}/one_hot_encoder_classification.pkl', 'wb') as file:\n",
    "  pickle.dump(one_hot_encoder, file)\n",
    "\n",
    "with open(f'{BASE_PATH}/scaler_classification.pkl', 'wb') as file:\n",
    "  pickle.dump(scaler, file)\n",
    "\n",
    "with open(f'{BASE_PATH}/sfs_classification.pkl', 'wb') as file:\n",
    "  pickle.dump(sfs, file)\n",
    "\n",
    "with open(f'{BASE_PATH}/classification_model.pkl', 'wb') as file:\n",
    "  pickle.dump(model, file)\n",
    "\n",
    "with open(f'{BASE_PATH}/mean_dict_classification.pkl', 'wb') as file:\n",
    "  pickle.dump(mean_dict, file)\n",
    "\n",
    "with open(f'{BASE_PATH}/std_dict_classification.pkl', 'wb') as file:\n",
    "  pickle.dump(std_dict, file)\n"
   ]
  },
  {
   "cell_type": "code",
   "execution_count": 22,
   "metadata": {
    "executionInfo": {
     "elapsed": 6,
     "status": "ok",
     "timestamp": 1702590698489,
     "user": {
      "displayName": "Peerakarn Jitpukdee",
      "userId": "02920075897590080466"
     },
     "user_tz": 0
    },
    "id": "xlULTULINPmu"
   },
   "outputs": [],
   "source": []
  }
 ],
 "metadata": {
  "colab": {
   "authorship_tag": "ABX9TyMhT27fvQvaL+whgTyHkdiG",
   "provenance": []
  },
  "kernelspec": {
   "display_name": "Python 3 (ipykernel)",
   "language": "python",
   "name": "python3"
  },
  "language_info": {
   "codemirror_mode": {
    "name": "ipython",
    "version": 3
   },
   "file_extension": ".py",
   "mimetype": "text/x-python",
   "name": "python",
   "nbconvert_exporter": "python",
   "pygments_lexer": "ipython3",
   "version": "3.9.13"
  }
 },
 "nbformat": 4,
 "nbformat_minor": 1
}
